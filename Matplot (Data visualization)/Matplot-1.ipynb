{
 "cells": [
  {
   "cell_type": "code",
   "execution_count": 1,
   "id": "3e3bbd04",
   "metadata": {},
   "outputs": [],
   "source": [
    "import matplotlib"
   ]
  },
  {
   "cell_type": "code",
   "execution_count": null,
   "id": "23c07124",
   "metadata": {},
   "outputs": [],
   "source": [
    "\"\"\"Matplot Graphs:-\n",
    "    Linear plot\n",
    "    Scatter plot\n",
    "    Bar plot\n",
    "    Stem plot\n",
    "    Step plot \n",
    "    Hist plot\n",
    "    Box plot\n",
    "    Pie plot\n",
    "    Fill_Betweebn plot\"\"\""
   ]
  }
 ],
 "metadata": {
  "kernelspec": {
   "display_name": "Python 3 (ipykernel)",
   "language": "python",
   "name": "python3"
  },
  "language_info": {
   "codemirror_mode": {
    "name": "ipython",
    "version": 3
   },
   "file_extension": ".py",
   "mimetype": "text/x-python",
   "name": "python",
   "nbconvert_exporter": "python",
   "pygments_lexer": "ipython3",
   "version": "3.11.5"
  }
 },
 "nbformat": 4,
 "nbformat_minor": 5
}
